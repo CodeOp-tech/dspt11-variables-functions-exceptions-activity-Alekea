{
 "cells": [
  {
   "cell_type": "markdown",
   "metadata": {},
   "source": [
    "# Assignment: Variables and Functions"
   ]
  },
  {
   "cell_type": "markdown",
   "metadata": {},
   "source": [
    "Using print() will print anything\n",
    "between the parantheses into your termianl.\n",
    "Change the phrase being printed below,\n",
    "save, and then run the script to see your changes.\n",
    "After confirming that it works, comment it out."
   ]
  },
  {
   "cell_type": "code",
   "execution_count": 4,
   "metadata": {
    "scrolled": false
   },
   "outputs": [
    {
     "name": "stdout",
     "output_type": "stream",
     "text": [
      "hello codeop!\n"
     ]
    }
   ],
   "source": [
    "print('hello codeop!')"
   ]
  },
  {
   "cell_type": "markdown",
   "metadata": {},
   "source": [
    "## Variables"
   ]
  },
  {
   "cell_type": "markdown",
   "metadata": {},
   "source": [
    "\n",
    "#### 1)\n",
    "\n",
    "Using the print() line below, \n",
    "then make it print 10, using both the \n",
    "(+) and the (*) operators.\n",
    "Multiply and add any combination of numbers\n",
    "together so that you get the number 10.\n",
    "\n"
   ]
  },
  {
   "cell_type": "code",
   "execution_count": 1,
   "metadata": {},
   "outputs": [
    {
     "name": "stdout",
     "output_type": "stream",
     "text": [
      "\n"
     ]
    }
   ],
   "source": [
    "print()"
   ]
  },
  {
   "cell_type": "markdown",
   "metadata": {},
   "source": [
    "#### 2)\n",
    "print is often used to debug\n",
    "issues. You can actually add multiple\n",
    "arguments inside of print (which are\n",
    "separated by a comma). Add everything\n",
    "below into print:\n",
    "\n",
    "\n",
    "3 + 4, ' should equal 7'\n",
    "\n"
   ]
  },
  {
   "cell_type": "markdown",
   "metadata": {},
   "source": [
    "#### 3)\n",
    "Add two strings together so that you\n",
    "are printing your full name!\n",
    "\n"
   ]
  },
  {
   "cell_type": "markdown",
   "metadata": {},
   "source": [
    "#### 4)\n",
    "Using modulo to get the remainder of\n",
    "a number divided by 2 will tell you whether a\n",
    "number is even or odd. Try it below!\n",
    "\n"
   ]
  },
  {
   "cell_type": "markdown",
   "metadata": {},
   "source": [
    "\n",
    "#### 5)\n",
    "Change Mia's location by reassigning the current_location\n",
    "variable to a new string! To do this, you will have\n",
    "to add a new line of code (do not delete any currently\n",
    "written code). Note: you will also have to un-comment\n",
    "the print to print the location.\n"
   ]
  },
  {
   "cell_type": "code",
   "execution_count": 2,
   "metadata": {},
   "outputs": [],
   "source": [
    "name = 'Mia'\n",
    "current_location = 'school'"
   ]
  },
  {
   "cell_type": "markdown",
   "metadata": {},
   "source": [
    "\n",
    "#### 6)\n",
    "Create variables so that the message is printed\n",
    "to the screen!\n"
   ]
  },
  {
   "cell_type": "code",
   "execution_count": null,
   "metadata": {},
   "outputs": [],
   "source": [
    "print(person, 'went to the', place, 'to eat', food)"
   ]
  },
  {
   "cell_type": "markdown",
   "metadata": {},
   "source": [
    "\n",
    "#### 7)\n",
    "Now, reassign all the previous variables so that\n",
    "a new message is printed to the screen!\n"
   ]
  },
  {
   "cell_type": "code",
   "execution_count": null,
   "metadata": {},
   "outputs": [],
   "source": [
    "print(person, 'went to the', place, 'to eat', food)"
   ]
  },
  {
   "cell_type": "markdown",
   "metadata": {},
   "source": [
    "#### 8)\n",
    "There are two ways to increase the\n",
    "number stored in the variable 'count'.\n",
    "What is the answer for running the following 4 lines? \n",
    "Hint: lookup what += does if it isn't clear!\n"
   ]
  },
  {
   "cell_type": "code",
   "execution_count": 4,
   "metadata": {},
   "outputs": [],
   "source": [
    "count = 0\n",
    "count = count + 1\n",
    "count += 1\n",
    "count += count"
   ]
  },
  {
   "cell_type": "markdown",
   "metadata": {},
   "source": [
    "\n",
    "#### 9)\n",
    "Swap time! In the code below, we want to swap\n",
    "the values being stored in both 'a' and 'b'.\n",
    "This code written below does not work. To accomplish\n",
    "this task, you will need to create an additional\n",
    "variable (you can name it 'temp') to store either\n",
    "'a' or 'b' while you are swapping. Draw it out if\n",
    "you are unsure!\n",
    "\n",
    "\n",
    "a = 1\n",
    "\n",
    "b = 2\n",
    "\n",
    "print('BEFORE > a is:', a, '- and b is: ', b)\n",
    "\n",
    "YOUR CODE HERE\n",
    "\n",
    "print('AFTER > a:', a, 'should be 2 - and b:', b, 'should be 1')\n",
    "\n"
   ]
  },
  {
   "cell_type": "code",
   "execution_count": 5,
   "metadata": {},
   "outputs": [],
   "source": [
    "a = 1\n",
    "b = 2"
   ]
  },
  {
   "cell_type": "code",
   "execution_count": 6,
   "metadata": {},
   "outputs": [
    {
     "name": "stdout",
     "output_type": "stream",
     "text": [
      "BEFORE > a is: 1 - and b is:  2\n"
     ]
    }
   ],
   "source": [
    "print('BEFORE > a is:', a, '- and b is: ', b)\n"
   ]
  },
  {
   "cell_type": "code",
   "execution_count": 7,
   "metadata": {},
   "outputs": [],
   "source": [
    "# YOUR CODE HERE\n"
   ]
  },
  {
   "cell_type": "code",
   "execution_count": null,
   "metadata": {},
   "outputs": [],
   "source": [
    "print('AFTER > a:', a, 'should be 2 - and b:', b, 'should be 1')"
   ]
  },
  {
   "cell_type": "markdown",
   "metadata": {},
   "source": [
    "#### 10)\n",
    "What will this evaluate to? \n",
    "Try to make it evaluate to true.\n",
    "Try to do it in multiple ways!\n",
    "(hint: try 'casting' the number \n",
    "to a string, or vice versa!)"
   ]
  },
  {
   "cell_type": "code",
   "execution_count": null,
   "metadata": {},
   "outputs": [],
   "source": [
    "print(3 == '3', 'should be True')"
   ]
  },
  {
   "cell_type": "markdown",
   "metadata": {},
   "source": [
    "## Functions"
   ]
  },
  {
   "cell_type": "markdown",
   "metadata": {},
   "source": [
    "\n",
    "\n",
    "#### 1)\n",
    "Create a function named\n",
    "\"triple\" that takes one\n",
    "parameter, x, and returns\n",
    "the value of x multiplied\n",
    "by three.\n"
   ]
  },
  {
   "cell_type": "markdown",
   "metadata": {},
   "source": [
    "#### 2) \n",
    "Create a function named \"multiply\" that takes two parameters (a,b) and returns the multiplication (a*b).Create a function named \"multiply\" that takes two parameters (a,b) and returns the multiplication (a * b).\n",
    "\n"
   ]
  },
  {
   "cell_type": "markdown",
   "metadata": {},
   "source": [
    "#### 3)\n",
    "Define a global variable “total” and initialize it to 0. Create a function called “sum” which adds to numbers (7 and 8) and assigns it to “total” inside the function. Print the value of total inside the function and outside the function and see what is the difference between both outputs."
   ]
  },
  {
   "cell_type": "markdown",
   "metadata": {},
   "source": [
    "\n",
    "\n",
    "\n",
    "#### 4) (optional)\n",
    "Create a function that calculates the volume of a cube. The function receive as an input the side and should return the volume. \n",
    "**Note: Volume of cube = side * 3**  "
   ]
  },
  {
   "cell_type": "markdown",
   "metadata": {},
   "source": [
    "\n",
    "\n",
    "\n",
    "\n",
    "#### 5)\n",
    "Create a function named \"safe_subtract\" that\n",
    "takes two parameters and returns the result of\n",
    "the second value subtracted from the first.\n",
    "If the values cannot be subtracted, it returns None.\n",
    "\n"
   ]
  },
  {
   "cell_type": "markdown",
   "metadata": {},
   "source": [
    "#### 6)\n",
    "Create a function named \"greet_person\". It should\n",
    "accept a string as an argument and return that\n",
    "string as part of a longer sentence that says hello:\n",
    "i.e. \"Sophia\" --> \"Hello, Sophia!\"\n",
    "If the function is called with an argument that is\n",
    "not a string, it should return \"Please provide a name.\"\n",
    "i.e. 5 --> \"Please provide a name.\"\n"
   ]
  },
  {
   "cell_type": "markdown",
   "metadata": {},
   "source": [
    "#### 7) (Optional)\n",
    "Create a function named \"removeSpaces\" that removes all spaces from a string.\n"
   ]
  },
  {
   "cell_type": "markdown",
   "metadata": {},
   "source": [
    "#### 8) (Optional)\n",
    "Create a function named \"titleCase\" that takes a string as an argument. It should return a string where the first letter of every word is capitalized."
   ]
  },
  {
   "cell_type": "markdown",
   "metadata": {},
   "source": [
    "## Exceptions\n"
   ]
  },
  {
   "cell_type": "markdown",
   "metadata": {},
   "source": [
    "#### 1) \n",
    "Without executing the code, answer to the following question: What should be the output of the following code?\n"
   ]
  },
  {
   "cell_type": "code",
   "execution_count": null,
   "metadata": {},
   "outputs": [],
   "source": [
    "def fn(x):\n",
    "    try:\n",
    "        print(5/x)\n",
    "    except:\n",
    "        print('Error ocurred')\n",
    "fn(0)"
   ]
  },
  {
   "cell_type": "markdown",
   "metadata": {},
   "source": [
    "#### 2) \n",
    "Write a function called “division_by_0” that takes a number as input and should raise an exception saying “Number cannot be divided by 0” if it receives 0 as an argument.\n"
   ]
  },
  {
   "cell_type": "markdown",
   "metadata": {},
   "source": [
    "#### 3) \n",
    "Create a function named \"safe_subtract\" that takes two parameters. If the two parameters are numbers it should return the result as the subtracted value. But if any of the values is a string or boolean raise an exception “Only numeric values can be subtracted”\n"
   ]
  },
  {
   "cell_type": "markdown",
   "metadata": {},
   "source": [
    "#### 4) \n",
    "Create a function named \"greet_person\". It should accept a string as an argument and return that string as part of a longer sentence that says hello: i.e. \"Sophia\" --> \"Hello, Sophia!\" If the function is called with an argument that is not a string, it should raise an exception \"Please provide a name.\" i.e \"Please provide a name.\"\n"
   ]
  },
  {
   "cell_type": "markdown",
   "metadata": {},
   "source": [
    "#### 5) \n",
    "You have a list of elements li = [1, 2, 3, 4, 5]. Write a code that raises an exception if you try to access li[7]"
   ]
  }
 ],
 "metadata": {
  "kernelspec": {
   "display_name": "Python 3",
   "language": "python",
   "name": "python3"
  },
  "language_info": {
   "codemirror_mode": {
    "name": "ipython",
    "version": 3
   },
   "file_extension": ".py",
   "mimetype": "text/x-python",
   "name": "python",
   "nbconvert_exporter": "python",
   "pygments_lexer": "ipython3",
   "version": "3.8.5"
  }
 },
 "nbformat": 4,
 "nbformat_minor": 4
}
