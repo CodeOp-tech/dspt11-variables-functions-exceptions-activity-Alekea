{
 "cells": [
  {
   "cell_type": "markdown",
   "metadata": {},
   "source": [
    "# Assignment: Variables and Functions"
   ]
  },
  {
   "cell_type": "markdown",
   "metadata": {},
   "source": [
    "Using print() will print anything\n",
    "between the parantheses into your termianl.\n",
    "Change the phrase being printed below,\n",
    "save, and then run the script to see your changes.\n",
    "After confirming that it works, comment it out."
   ]
  },
  {
   "cell_type": "code",
   "execution_count": 1,
   "metadata": {
    "scrolled": false
   },
   "outputs": [
    {
     "name": "stdout",
     "output_type": "stream",
     "text": [
      "hello from the other side!\n"
     ]
    }
   ],
   "source": [
    "# print('hello from the other side!')"
   ]
  },
  {
   "cell_type": "markdown",
   "metadata": {},
   "source": [
    "## Variables"
   ]
  },
  {
   "cell_type": "markdown",
   "metadata": {},
   "source": [
    "\n",
    "#### 1)\n",
    "\n",
    "Using the print() line below, \n",
    "then make it print 10, using both the \n",
    "(+) and the (*) operators.\n",
    "Multiply and add any combination of numbers\n",
    "together so that you get the number 10.\n",
    "\n"
   ]
  },
  {
   "cell_type": "code",
   "execution_count": 3,
   "metadata": {},
   "outputs": [
    {
     "name": "stdout",
     "output_type": "stream",
     "text": [
      "10\n",
      "10\n"
     ]
    }
   ],
   "source": [
    "print(10)\n",
    "print(2+(2*4))"
   ]
  },
  {
   "cell_type": "markdown",
   "metadata": {},
   "source": [
    "#### 2)\n",
    "print is often used to debug\n",
    "issues. You can actually add multiple\n",
    "arguments inside of print (which are\n",
    "separated by a comma). Add everything\n",
    "below into print:\n",
    "\n",
    "\n",
    "3 + 4, ' should equal 7'\n",
    "\n"
   ]
  },
  {
   "cell_type": "code",
   "execution_count": 4,
   "metadata": {},
   "outputs": [
    {
     "name": "stdout",
     "output_type": "stream",
     "text": [
      "7 should equal 7\n"
     ]
    }
   ],
   "source": [
    "print(3+4, \"should equal 7\")"
   ]
  },
  {
   "cell_type": "markdown",
   "metadata": {},
   "source": [
    "#### 3)\n",
    "Add two strings together so that you\n",
    "are printing your full name!\n",
    "\n"
   ]
  },
  {
   "cell_type": "code",
   "execution_count": 7,
   "metadata": {},
   "outputs": [
    {
     "name": "stdout",
     "output_type": "stream",
     "text": [
      "Angella Lekea\n"
     ]
    }
   ],
   "source": [
    "print(\"Angella\" + \" \" + \"Lekea\")"
   ]
  },
  {
   "cell_type": "markdown",
   "metadata": {},
   "source": [
    "#### 4)\n",
    "Using modulo to get the remainder of\n",
    "a number divided by 2 will tell you whether a\n",
    "number is even or odd. Try it below!\n",
    "\n"
   ]
  },
  {
   "cell_type": "code",
   "execution_count": 9,
   "metadata": {},
   "outputs": [
    {
     "name": "stdout",
     "output_type": "stream",
     "text": [
      "The number is even.\n"
     ]
    }
   ],
   "source": [
    "number = 6\n",
    "if number%2 == 0:\n",
    "    print(\"The number is even.\")\n",
    "else:\n",
    "    print(\"The number is odd.\")"
   ]
  },
  {
   "cell_type": "markdown",
   "metadata": {},
   "source": [
    "\n",
    "#### 5)\n",
    "Change Mia's location by reassigning the current_location\n",
    "variable to a new string! To do this, you will have\n",
    "to add a new line of code (do not delete any currently\n",
    "written code). Note: you will also have to un-comment\n",
    "the print to print the location.\n"
   ]
  },
  {
   "cell_type": "code",
   "execution_count": 10,
   "metadata": {},
   "outputs": [
    {
     "name": "stdout",
     "output_type": "stream",
     "text": [
      "supermarket\n"
     ]
    }
   ],
   "source": [
    "name = 'Mia'\n",
    "current_location = 'school'\n",
    "current_location = \"supermarket\"\n",
    "print(current_location)"
   ]
  },
  {
   "cell_type": "markdown",
   "metadata": {},
   "source": [
    "\n",
    "#### 6)\n",
    "Create variables so that the message is printed\n",
    "to the screen!\n"
   ]
  },
  {
   "cell_type": "code",
   "execution_count": 11,
   "metadata": {},
   "outputs": [],
   "source": [
    "person = \"Angella\"\n",
    "place = \"restaurant\"\n",
    "food = \"pasta\""
   ]
  },
  {
   "cell_type": "code",
   "execution_count": 13,
   "metadata": {},
   "outputs": [
    {
     "name": "stdout",
     "output_type": "stream",
     "text": [
      "Angella went to the restaurant to eat pasta .\n"
     ]
    }
   ],
   "source": [
    "print(person, 'went to the', place, 'to eat', food, '.')"
   ]
  },
  {
   "cell_type": "markdown",
   "metadata": {},
   "source": [
    "\n",
    "#### 7)\n",
    "Now, reassign all the previous variables so that\n",
    "a new message is printed to the screen!\n"
   ]
  },
  {
   "cell_type": "code",
   "execution_count": 14,
   "metadata": {},
   "outputs": [],
   "source": [
    "person = \"Michael\"\n",
    "place = \"hotel\"\n",
    "food = \"pizza\""
   ]
  },
  {
   "cell_type": "code",
   "execution_count": 16,
   "metadata": {},
   "outputs": [
    {
     "name": "stdout",
     "output_type": "stream",
     "text": [
      "Michael went to the hotel to eat pizza .\n"
     ]
    }
   ],
   "source": [
    "print(person, 'went to the', place, 'to eat', food,'.')"
   ]
  },
  {
   "cell_type": "markdown",
   "metadata": {},
   "source": [
    "#### 8)\n",
    "There are two ways to increase the\n",
    "number stored in the variable 'count'.\n",
    "What is the answer for running the following 4 lines? \n",
    "Hint: lookup what += does if it isn't clear!\n"
   ]
  },
  {
   "cell_type": "code",
   "execution_count": 4,
   "metadata": {},
   "outputs": [],
   "source": [
    "count = 0\n",
    "count = count + 1 # adds 0, the value of count, to 1\n",
    "count += 1        # adds 1, the value of count, to 1\n",
    "count += count    # adds 2, the value of count, to the value of count (2)\n",
    "\n",
    "Answer = 4"
   ]
  },
  {
   "cell_type": "markdown",
   "metadata": {},
   "source": [
    "\n",
    "#### 9)\n",
    "Swap time! In the code below, we want to swap\n",
    "the values being stored in both 'a' and 'b'.\n",
    "This code written below does not work. To accomplish\n",
    "this task, you will need to create an additional\n",
    "variable (you can name it 'temp') to store either\n",
    "'a' or 'b' while you are swapping. Draw it out if\n",
    "you are unsure!\n",
    "\n",
    "\n",
    "a = 1\n",
    "\n",
    "b = 2\n",
    "\n",
    "print('BEFORE > a is:', a, '- and b is: ', b)\n",
    "\n",
    "YOUR CODE HERE\n",
    "\n",
    "print('AFTER > a:', a, 'should be 2 - and b:', b, 'should be 1')\n",
    "\n"
   ]
  },
  {
   "cell_type": "code",
   "execution_count": 5,
   "metadata": {},
   "outputs": [],
   "source": [
    "a = 1\n",
    "b = 2"
   ]
  },
  {
   "cell_type": "code",
   "execution_count": 6,
   "metadata": {},
   "outputs": [
    {
     "name": "stdout",
     "output_type": "stream",
     "text": [
      "BEFORE > a is: 1 - and b is:  2\n"
     ]
    }
   ],
   "source": [
    "print('BEFORE > a is:', a, '- and b is: ', b)\n"
   ]
  },
  {
   "cell_type": "code",
   "execution_count": 2,
   "metadata": {},
   "outputs": [],
   "source": [
    "a = 1\n",
    "b = 2\n",
    "temp = a     # temp takes on value of a = 1\n",
    "a = b        # a takes on value of b = 2\n",
    "b = temp     # b takes on value of temp = 1\n"
   ]
  },
  {
   "cell_type": "code",
   "execution_count": 3,
   "metadata": {},
   "outputs": [
    {
     "name": "stdout",
     "output_type": "stream",
     "text": [
      "AFTER > a: 2 should be 2 - and b: 1 should be 1\n"
     ]
    }
   ],
   "source": [
    "print('AFTER > a:', a, 'should be 2 - and b:', b, 'should be 1')"
   ]
  },
  {
   "cell_type": "markdown",
   "metadata": {},
   "source": [
    "#### 10)\n",
    "What will this evaluate to? \n",
    "Try to make it evaluate to true.\n",
    "Try to do it in multiple ways!\n",
    "(hint: try 'casting' the number \n",
    "to a string, or vice versa!)"
   ]
  },
  {
   "cell_type": "code",
   "execution_count": 24,
   "metadata": {},
   "outputs": [
    {
     "name": "stdout",
     "output_type": "stream",
     "text": [
      "False should be True\n",
      "True should be True\n",
      "True should be True\n",
      "True should be True\n"
     ]
    }
   ],
   "source": [
    "print(3 == '3', 'should be True')\n",
    "print(str(3) == '3', 'should be True' )\n",
    "print(3 == 3, 'should be True')\n",
    "print(3 == int(3), 'should be True')\n"
   ]
  },
  {
   "cell_type": "markdown",
   "metadata": {},
   "source": [
    "## Functions"
   ]
  },
  {
   "cell_type": "markdown",
   "metadata": {},
   "source": [
    "\n",
    "\n",
    "#### 1)\n",
    "Create a function named\n",
    "\"triple\" that takes one\n",
    "parameter, x, and returns\n",
    "the value of x multiplied\n",
    "by three.\n"
   ]
  },
  {
   "cell_type": "code",
   "execution_count": 23,
   "metadata": {},
   "outputs": [
    {
     "name": "stdout",
     "output_type": "stream",
     "text": [
      "24\n"
     ]
    }
   ],
   "source": [
    "def triple(x):\n",
    "    return (3*x)\n",
    "\n",
    "print(triple(8))"
   ]
  },
  {
   "cell_type": "markdown",
   "metadata": {},
   "source": [
    "#### 2) \n",
    "Create a function named \"multiply\" that takes two parameters (a,b) and returns the multiplication (a*b).Create a function named \"multiply\" that takes two parameters (a,b) and returns the multiplication (a * b).\n",
    "\n"
   ]
  },
  {
   "cell_type": "code",
   "execution_count": 22,
   "metadata": {},
   "outputs": [
    {
     "name": "stdout",
     "output_type": "stream",
     "text": [
      "42\n"
     ]
    }
   ],
   "source": [
    "def multiply(a,b):\n",
    "    return (a*b)\n",
    "\n",
    "print(multiply(6,7))"
   ]
  },
  {
   "cell_type": "markdown",
   "metadata": {},
   "source": [
    "#### 3)\n",
    "Define a global variable “total” and initialize it to 0. Create a function called “sum” which adds to numbers (7 and 8) and assigns it to “total” inside the function. Print the value of total inside the function and outside the function and see what is the difference between both outputs."
   ]
  },
  {
   "cell_type": "code",
   "execution_count": 3,
   "metadata": {},
   "outputs": [
    {
     "name": "stdout",
     "output_type": "stream",
     "text": [
      "The total inside the function is: 15\n",
      "The sum of the two numbers is: 15\n",
      "The total outside the function is: 0\n"
     ]
    }
   ],
   "source": [
    "total = 0\n",
    "\n",
    "def my_sum(a,b):\n",
    "    total = a + b\n",
    "    print(f\"The total inside the function is: {total}\")\n",
    "    return total\n",
    "\n",
    "print(f\"The sum of the two numbers is: {my_sum(7,8)}\")\n",
    "print(f\"The total outside the function is: {total}\")"
   ]
  },
  {
   "cell_type": "markdown",
   "metadata": {},
   "source": [
    "\n",
    "\n",
    "\n",
    "#### 4) (optional)\n",
    "Create a function that calculates the volume of a cube. The function receive as an input the side and should return the volume. \n",
    "**Note: Volume of cube = side * 3**  "
   ]
  },
  {
   "cell_type": "code",
   "execution_count": 42,
   "metadata": {},
   "outputs": [
    {
     "name": "stdout",
     "output_type": "stream",
     "text": [
      "512\n"
     ]
    }
   ],
   "source": [
    "def cube_volume(x):\n",
    "    return (x**3)\n",
    "\n",
    "print(cube_volume(8))"
   ]
  },
  {
   "cell_type": "markdown",
   "metadata": {},
   "source": [
    "#### 5) (Optional)\n",
    "Create a function named \"removeSpaces\" that removes all spaces from a string. Hint: Python has some built in methods that you can use for this problem."
   ]
  },
  {
   "cell_type": "code",
   "execution_count": 4,
   "metadata": {},
   "outputs": [
    {
     "name": "stdout",
     "output_type": "stream",
     "text": [
      "Thisismytestsentence.\n"
     ]
    }
   ],
   "source": [
    "def removeSpaces(string):\n",
    "    return string.replace(\" \", \"\")\n",
    "\n",
    "my_sentence = \"This is my test sentence.\"\n",
    "print(removeSpaces(my_sentence))"
   ]
  },
  {
   "cell_type": "markdown",
   "metadata": {},
   "source": [
    "#### 6) (Optional)\n",
    "Create a function named \"titleCase\" that takes a string as an argument. It should return a string where the first letter of every word is capitalized. Hint: Python has some built in methods that you can use for this problem."
   ]
  },
  {
   "cell_type": "code",
   "execution_count": 6,
   "metadata": {},
   "outputs": [
    {
     "name": "stdout",
     "output_type": "stream",
     "text": [
      "The Lion And The Jewel.\n"
     ]
    }
   ],
   "source": [
    "def titleCase(heading):\n",
    "    return heading.title()\n",
    "\n",
    "my_heading = \"the lion and the jewel.\"\n",
    "print(titleCase(my_heading))"
   ]
  },
  {
   "cell_type": "markdown",
   "metadata": {},
   "source": [
    "## Exceptions\n"
   ]
  },
  {
   "cell_type": "markdown",
   "metadata": {},
   "source": [
    "#### 1) \n",
    "Without executing the code, answer to the following question: What should be the output of the following code?\n"
   ]
  },
  {
   "cell_type": "code",
   "execution_count": null,
   "metadata": {},
   "outputs": [],
   "source": [
    "def fn(x):\n",
    "    try:\n",
    "        print(5/x)\n",
    "    except:\n",
    "        print('Error ocurred')\n",
    "fn(0)\n",
    "\n",
    "Answer: Error ocurred # zerodivisionerror is initiated as x=0"
   ]
  },
  {
   "cell_type": "markdown",
   "metadata": {},
   "source": [
    "#### 2) \n",
    "Write a function called “division_by_0” that takes a number as input and should raise an exception saying “Number cannot be divided by 0” if it receives 0 as an argument.\n"
   ]
  },
  {
   "cell_type": "code",
   "execution_count": 20,
   "metadata": {},
   "outputs": [
    {
     "name": "stdout",
     "output_type": "stream",
     "text": [
      "0.0\n"
     ]
    }
   ],
   "source": [
    "def division_by_0(x):\n",
    "    try:\n",
    "        return (0/x)\n",
    "    except:\n",
    "        raise Exception(\"Number cannot be divided by 0.\")\n",
    "        \n",
    "print(division_by_0(1))\n",
    "    \n",
    "        "
   ]
  },
  {
   "cell_type": "markdown",
   "metadata": {},
   "source": [
    "#### 3) \n",
    "Create a function named \"safe_subtract\" that takes two parameters. If the two parameters are numbers it should return the result as the subtracted value. But if any of the values is a string or boolean raise an exception “Only numeric values can be subtracted”\n"
   ]
  },
  {
   "cell_type": "code",
   "execution_count": 24,
   "metadata": {},
   "outputs": [
    {
     "name": "stdout",
     "output_type": "stream",
     "text": [
      "5\n"
     ]
    }
   ],
   "source": [
    "\n",
    "def safe_subtract(a,b):\n",
    "    if isinstance(a, (str, bool)) or isinstance(b, (str, bool)):\n",
    "        raise Exception(\"Only numeric values can be subtracted\")\n",
    "    return(a-b)\n",
    "          \n",
    "print(safe_subtract(8,3))\n"
   ]
  },
  {
   "cell_type": "markdown",
   "metadata": {},
   "source": [
    "#### 4) \n",
    "Create a function named \"greet_person\". It should accept a string as an argument and return that string as part of a longer sentence that says hello: i.e. \"Sophia\" --> \"Hello, Sophia!\" If the function is called with an argument that is not a string, it should raise an exception \"Please provide a name.\" i.e \"Please provide a name.\"\n"
   ]
  },
  {
   "cell_type": "code",
   "execution_count": null,
   "metadata": {},
   "outputs": [],
   "source": [
    "name = input(\"Enter your name: \")\n",
    "\n",
    "def greet_person(name):\n",
    "    if not isinstance(name,str):\n",
    "        raise Exception(\"Please provide a name.\")\n",
    "    print(\"Hello \" + name + \"!\")\n",
    "\n",
    "greet_person(name)"
   ]
  },
  {
   "cell_type": "markdown",
   "metadata": {},
   "source": [
    "#### 5) \n",
    "You have a list of elements li = [1, 2, 3, 4, 5]. Write a code that raises an exception if you try to access li[7]"
   ]
  },
  {
   "cell_type": "code",
   "execution_count": null,
   "metadata": {},
   "outputs": [],
   "source": [
    "li = [1, 2, 3, 4, 5]\n",
    "pos_index = 7\n",
    "try:\n",
    "    list_pos = li[pos_index]\n",
    "except:\n",
    "    raise IndexError(f\"Index position {pos_index} out of range for list li.\")"
   ]
  },
  {
   "cell_type": "code",
   "execution_count": null,
   "metadata": {},
   "outputs": [],
   "source": []
  }
 ],
 "metadata": {
  "kernelspec": {
   "display_name": "Python 3 (ipykernel)",
   "language": "python",
   "name": "python3"
  },
  "language_info": {
   "codemirror_mode": {
    "name": "ipython",
    "version": 3
   },
   "file_extension": ".py",
   "mimetype": "text/x-python",
   "name": "python",
   "nbconvert_exporter": "python",
   "pygments_lexer": "ipython3",
   "version": "3.10.9"
  }
 },
 "nbformat": 4,
 "nbformat_minor": 4
}
